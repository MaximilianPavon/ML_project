{
 "cells": [
  {
   "cell_type": "code",
   "execution_count": 1,
   "metadata": {},
   "outputs": [],
   "source": [
    "%matplotlib inline\n",
    "\n",
    "import numpy as np\n",
    "import matplotlib as mpl\n",
    "import matplotlib.pyplot as plt\n",
    "import sklearn\n",
    "from sklearn.neural_network import MLPClassifier\n",
    "from sklearn.neural_network import MLPRegressor\n",
    "from sklearn.linear_model import LogisticRegression\n",
    "from sklearn.preprocessing import StandardScaler\n",
    "from sklearn import svm\n",
    "\n",
    "import utils"
   ]
  },
  {
   "cell_type": "code",
   "execution_count": 2,
   "metadata": {},
   "outputs": [],
   "source": [
    "train_data = np.loadtxt(open(\"data/train_data.csv\", \"rb\"), delimiter=\",\")\n",
    "train_labels = np.loadtxt(open(\"data/train_labels.csv\", \"rb\"), delimiter=\",\")\n",
    "test_data = np.loadtxt(open(\"data/test_data.csv\", \"rb\"), delimiter=\",\")"
   ]
  },
  {
   "cell_type": "code",
   "execution_count": 3,
   "metadata": {},
   "outputs": [],
   "source": [
    "scaler = StandardScaler()\n",
    "train_data_stand = scaler.fit_transform(train_data)\n",
    "test_data_stand = scaler.fit_transform(test_data)"
   ]
  },
  {
   "cell_type": "code",
   "execution_count": 4,
   "metadata": {},
   "outputs": [],
   "source": [
    "acc_lin = []\n",
    "acc_poly = []\n",
    "acc_rbf = []\n",
    "acc_sig = []"
   ]
  },
  {
   "cell_type": "markdown",
   "metadata": {},
   "source": [
    "because we have unbalanced data (a lot of 1 labels) we choose the option class_weight='balanced' to balance our data."
   ]
  },
  {
   "cell_type": "code",
   "execution_count": 5,
   "metadata": {},
   "outputs": [],
   "source": [
    "SVM_lin = svm.SVC(cache_size=2000, class_weight='balanced', kernel='linear', gamma=2, C=0.8)\n",
    "SVM_poly = svm.SVC(cache_size=2000, class_weight='balanced', kernel='poly', gamma=2, C=0.8)\n",
    "SVM_rbf = svm.SVC(cache_size=2000, class_weight='balanced', kernel='rbf',gamma=2, C=0.8)\n",
    "SVM_sig = svm.SVC(cache_size=2000, class_weight='balanced', kernel='sigmoid',gamma=2, C=0.8)"
   ]
  },
  {
   "cell_type": "code",
   "execution_count": 11,
   "metadata": {},
   "outputs": [
    {
     "data": {
      "text/plain": [
       "SVC(C=0.8, cache_size=2000, class_weight='balanced', coef0=0.0,\n",
       "  decision_function_shape='ovr', degree=3, gamma=2, kernel='poly',\n",
       "  max_iter=-1, probability=False, random_state=None, shrinking=True,\n",
       "  tol=0.001, verbose=False)"
      ]
     },
     "execution_count": 11,
     "metadata": {},
     "output_type": "execute_result"
    }
   ],
   "source": [
    "SVM_lin.fit(train_data_stand,train_labels)\n",
    "SVM_poly.fit(train_data_stand,train_labels)\n",
    "#SVM_rbf.fit(train_data_stand,train_labels)\n",
    "#SVM_sig.fit(train_data_stand,train_labels)"
   ]
  },
  {
   "cell_type": "code",
   "execution_count": 13,
   "metadata": {},
   "outputs": [],
   "source": [
    "predic_lin = SVM_lin.predict(train_data_stand)\n",
    "predic_poly = SVM_poly.predict(train_data_stand)\n",
    "#predic_rbf = SVM_rbf.predict(train_data_stand)\n",
    "#predic_sig = SVM_sig.predict(train_data_stand)"
   ]
  },
  {
   "cell_type": "code",
   "execution_count": 92,
   "metadata": {},
   "outputs": [],
   "source": [
    "acc_lin.append(sum(predic_lin == train_labels) / len(train_labels))\n",
    "acc_poly.append(sum(predic_poly == train_labels) / len(train_labels))\n",
    "acc_rbf.append(sum(predic_rbf == train_labels) / len(train_labels))\n",
    "acc_sig.append(sum(predic_sig == train_labels) / len(train_labels))"
   ]
  },
  {
   "cell_type": "code",
   "execution_count": 95,
   "metadata": {},
   "outputs": [
    {
     "name": "stdout",
     "output_type": "stream",
     "text": [
      "LIN: \t current accuary: 0.8517075406830162 \t before was: 0.8546871418748567 \t difference: -0.0029796011918404863\n",
      "Poly: \t current accuary: 1.0 \t before was: 1.0 \t difference: 0.0\n",
      "RBF: \t current accuary: 0.8583543433417373 \t before was: 0.8583543433417373 \t difference: 0.0\n",
      "SIG: \t current accuary: 0.22461608984643594 \t before was: 0.2200320880128352 \t difference: 0.004584001833600748\n"
     ]
    }
   ],
   "source": [
    "n = len(acc_lin)\n",
    "print(f'LIN: \\t current accuary: {acc_lin[n-1]} \\t before was: {acc_lin[n-2]} \\t difference: {acc_lin[n-1] - acc_lin[2-1] }')\n",
    "print(f'Poly: \\t current accuary: {acc_poly[n-1]} \\t before was: {acc_poly[n-2]} \\t difference: {acc_poly[n-1] - acc_poly[2-1]}')\n",
    "print(f'RBF: \\t current accuary: {acc_rbf[n-1]} \\t before was: {acc_rbf[n-2]} \\t difference: {acc_rbf[n-1] - acc_rbf[2-1]}')\n",
    "print(f'SIG: \\t current accuary: {acc_sig[n-1]} \\t before was: {acc_sig[n-2]} \\t difference: {acc_sig[n-1] - acc_sig[2-1]}')"
   ]
  },
  {
   "cell_type": "code",
   "execution_count": 88,
   "metadata": {},
   "outputs": [
    {
     "data": {
      "text/plain": [
       "<matplotlib.legend.Legend at 0x1a2513dba8>"
      ]
     },
     "execution_count": 88,
     "metadata": {},
     "output_type": "execute_result"
    },
    {
     "data": {
      "image/png": "[encoded data removed]",
      "text/plain": [
       "<matplotlib.figure.Figure at 0x1a17811eb8>"
      ]
     },
     "metadata": {},
     "output_type": "display_data"
    }
   ],
   "source": [
    "tmp_lin = []\n",
    "tmp_poly = []\n",
    "tmp_rbf = []\n",
    "tmp_sig = []\n",
    "\n",
    "for i in range(1,11):\n",
    "    tmp_lin.append(sum(predic_lin == i)/sum(train_labels == i))\n",
    "    tmp_poly.append(sum(predic_poly == i)/sum(train_labels == i))\n",
    "    tmp_rbf.append(sum(predic_rbf == i)/sum(train_labels == i))\n",
    "    tmp_sig.append(sum(predic_sig == i)/sum(train_labels == i))\n",
    "\n",
    "\n",
    "f, axarr = plt.subplots(4)\n",
    "axarr[0].plot(tmp_lin, label='lin')\n",
    "axarr[0].legend()\n",
    "axarr[1].plot(tmp_poly, label='poly')\n",
    "axarr[1].legend()\n",
    "axarr[2].plot(tmp_rbf, label='rbf')\n",
    "axarr[2].legend()\n",
    "axarr[3].plot(tmp_sig, label='sig')\n",
    "axarr[3].legend()\n",
    "\n",
    "\n",
    "#plt.axhline(1, color='r', label=r'$k = 0.7$')"
   ]
  },
  {
   "cell_type": "code",
   "execution_count": 92,
   "metadata": {},
   "outputs": [
    {
     "data": {
      "text/plain": [
       "1.3144157218221495"
      ]
     },
     "execution_count": 92,
     "metadata": {},
     "output_type": "execute_result"
    }
   ],
   "source": []
  },
  {
   "cell_type": "code",
   "execution_count": 14,
   "metadata": {},
   "outputs": [],
   "source": [
    "utils.make_submission(SVM_lin.predict(test_data_stand),'SVM-lin')"
   ]
  },
  {
   "cell_type": "code",
   "execution_count": 34,
   "metadata": {},
   "outputs": [],
   "source": [
    "utils.make_submission(SVM_poly.predict(test_data_stand),'SVM-poly')"
   ]
  },
  {
   "cell_type": "code",
   "execution_count": 32,
   "metadata": {},
   "outputs": [
    {
     "data": {
      "text/plain": [
       "(6544,)"
      ]
     },
     "execution_count": 32,
     "metadata": {},
     "output_type": "execute_result"
    }
   ],
   "source": []
  },
  {
   "cell_type": "code",
   "execution_count": 33,
   "metadata": {},
   "outputs": [
    {
     "data": {
      "text/plain": [
       "(6544, 264)"
      ]
     },
     "execution_count": 33,
     "metadata": {},
     "output_type": "execute_result"
    }
   ],
   "source": [
    "test_data.shape"
   ]
  },
  {
   "cell_type": "code",
   "execution_count": 64,
   "metadata": {},
   "outputs": [
    {
     "data": {
      "text/plain": [
       "0.67753789618741389"
      ]
     },
     "execution_count": 64,
     "metadata": {},
     "output_type": "execute_result"
    }
   ],
   "source": [
    "sum(predic == 1) / sum(train_labels == 1)"
   ]
  },
  {
   "cell_type": "code",
   "execution_count": null,
   "metadata": {},
   "outputs": [],
   "source": []
  },
  {
   "cell_type": "code",
   "execution_count": 15,
   "metadata": {},
   "outputs": [],
   "source": [
    "from sklearn.metrics import confusion_matrix\n",
    "cm = confusion_matrix(train_labels, SVM_lin.predict(train_data_stand))"
   ]
  },
  {
   "cell_type": "code",
   "execution_count": 16,
   "metadata": {},
   "outputs": [
    {
     "name": "stdout",
     "output_type": "stream",
     "text": [
      "Confusion matrix, without normalization\n",
      "[[1628  125   23   48   93   68   66  108    1   18]\n",
      " [  43  550    7    7    2    5    4    0    0    0]\n",
      " [   1    3  322    0    0    0    0    0    0    0]\n",
      " [   3    0    0  249    0    1    0    0    0    0]\n",
      " [   3    0    0    0  209    0    2    0    0    0]\n",
      " [   6    1    1    3    0  249    0    0    0    0]\n",
      " [   2    0    0    0    0    1  138    0    0    0]\n",
      " [   2    0    0    0    0    0    0  193    0    0]\n",
      " [   0    0    0    0    0    0    0    0   92    0]\n",
      " [   0    0    0    0    0    0    0    0    0   86]]\n"
     ]
    },
    {
     "data": {
      "image/png": "[encoded data removed]",
      "text/plain": [
       "<matplotlib.figure.Figure at 0x10fda6668>"
      ]
     },
     "metadata": {},
     "output_type": "display_data"
    }
   ],
   "source": [
    "utils.plot_confusion_matrix(cm, title='Confusion matrix SVM')"
   ]
  }
 ],
 "metadata": {
  "kernelspec": {
   "display_name": "Python 3",
   "language": "python",
   "name": "python3"
  },
  "language_info": {
   "codemirror_mode": {
    "name": "ipython",
    "version": 3
   },
   "file_extension": ".py",
   "mimetype": "text/x-python",
   "name": "python",
   "nbconvert_exporter": "python",
   "pygments_lexer": "ipython3",
   "version": "3.6.3"
  }
 },
 "nbformat": 4,
 "nbformat_minor": 2
}
