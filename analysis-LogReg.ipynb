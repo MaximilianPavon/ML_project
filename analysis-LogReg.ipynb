{
 "cells": [
  {
   "cell_type": "code",
   "execution_count": 1,
   "metadata": {},
   "outputs": [],
   "source": [
    "%matplotlib inline\n",
    "\n",
    "import numpy as np\n",
    "import matplotlib as mpl\n",
    "import matplotlib.pyplot as plt\n",
    "import sklearn\n",
    "from sklearn.neural_network import MLPClassifier\n",
    "from sklearn.neural_network import MLPRegressor\n",
    "from sklearn.linear_model import LogisticRegression\n",
    "from sklearn.preprocessing import StandardScaler\n",
    "\n",
    "import utils"
   ]
  },
  {
   "cell_type": "code",
   "execution_count": 120,
   "metadata": {},
   "outputs": [],
   "source": [
    "train_data = np.loadtxt(open(\"data/train_data.csv\", \"rb\"), delimiter=\",\")\n",
    "train_labels = np.loadtxt(open(\"data/train_labels.csv\", \"rb\"), delimiter=\",\")\n",
    "test_data = np.loadtxt(open(\"data/test_data.csv\", \"rb\"), delimiter=\",\")"
   ]
  },
  {
   "cell_type": "code",
   "execution_count": 121,
   "metadata": {},
   "outputs": [],
   "source": [
    "scaler = StandardScaler()\n",
    "train_data_stand = scaler.fit_transform(train_data)\n",
    "test_data_stand = scaler.fit_transform(test_data)"
   ]
  },
  {
   "cell_type": "code",
   "execution_count": 122,
   "metadata": {},
   "outputs": [],
   "source": [
    "LogReg = LogisticRegression(multi_class='ovr', penalty='l1',tol=0.1)"
   ]
  },
  {
   "cell_type": "code",
   "execution_count": 123,
   "metadata": {},
   "outputs": [
    {
     "data": {
      "text/plain": [
       "LogisticRegression(C=1.0, class_weight=None, dual=False, fit_intercept=True,\n",
       "          intercept_scaling=1, max_iter=100, multi_class='ovr', n_jobs=1,\n",
       "          penalty='l1', random_state=None, solver='liblinear', tol=0.1,\n",
       "          verbose=0, warm_start=False)"
      ]
     },
     "execution_count": 123,
     "metadata": {},
     "output_type": "execute_result"
    }
   ],
   "source": [
    "LogReg.fit(train_data_stand, train_labels)"
   ]
  },
  {
   "cell_type": "code",
   "execution_count": 124,
   "metadata": {},
   "outputs": [
    {
     "data": {
      "text/plain": [
       "LogisticRegression(C=1.0, class_weight=None, dual=False, fit_intercept=True,\n",
       "          intercept_scaling=1, max_iter=100, multi_class='ovr', n_jobs=1,\n",
       "          penalty='l1', random_state=None, solver='liblinear', tol=0.1,\n",
       "          verbose=0, warm_start=False)"
      ]
     },
     "execution_count": 124,
     "metadata": {},
     "output_type": "execute_result"
    }
   ],
   "source": [
    "LogReg"
   ]
  },
  {
   "cell_type": "code",
   "execution_count": 125,
   "metadata": {},
   "outputs": [
    {
     "data": {
      "text/plain": [
       "0.74329589731835888"
      ]
     },
     "execution_count": 125,
     "metadata": {},
     "output_type": "execute_result"
    }
   ],
   "source": [
    "LogReg.score(train_data_stand,train_labels)"
   ]
  },
  {
   "cell_type": "code",
   "execution_count": 126,
   "metadata": {},
   "outputs": [],
   "source": [
    "pred = LogReg.predict(test_data_stand)\n",
    "pred_log = LogReg.predict_log_proba(test_data_stand)"
   ]
  },
  {
   "cell_type": "code",
   "execution_count": 14,
   "metadata": {},
   "outputs": [],
   "source": [
    "utils.make_submission(pred, 'LogReg')"
   ]
  },
  {
   "cell_type": "code",
   "execution_count": null,
   "metadata": {},
   "outputs": [],
   "source": []
  },
  {
   "cell_type": "code",
   "execution_count": 59,
   "metadata": {},
   "outputs": [],
   "source": [
    "from sklearn.model_selection import train_test_split\n",
    "from sklearn.model_selection import learning_curve\n"
   ]
  },
  {
   "cell_type": "markdown",
   "metadata": {},
   "source": [
    "# neural network"
   ]
  },
  {
   "cell_type": "code",
   "execution_count": 187,
   "metadata": {},
   "outputs": [],
   "source": [
    "nn = MLPClassifier(alpha=0.001, hidden_layer_sizes = (250,200,180, 150, 120), max_iter = 50000, activation = 'tanh', verbose = 'True', solver='adam', learning_rate='adaptive', early_stopping=True, validation_fraction=0.25, tol=1e-4 )"
   ]
  },
  {
   "cell_type": "code",
   "execution_count": 188,
   "metadata": {},
   "outputs": [
    {
     "data": {
      "text/plain": [
       "MLPClassifier(activation='tanh', alpha=0.001, batch_size='auto', beta_1=0.9,\n",
       "       beta_2=0.999, early_stopping=True, epsilon=1e-08,\n",
       "       hidden_layer_sizes=(250, 200, 180, 150, 120),\n",
       "       learning_rate='adaptive', learning_rate_init=0.001, max_iter=50000,\n",
       "       momentum=0.9, nesterovs_momentum=True, power_t=0.5,\n",
       "       random_state=None, shuffle=True, solver='adam', tol=0.0001,\n",
       "       validation_fraction=0.25, verbose='True', warm_start=False)"
      ]
     },
     "execution_count": 188,
     "metadata": {},
     "output_type": "execute_result"
    }
   ],
   "source": [
    "nn"
   ]
  },
  {
   "cell_type": "code",
   "execution_count": 189,
   "metadata": {},
   "outputs": [
    {
     "name": "stdout",
     "output_type": "stream",
     "text": [
      "Iteration 1, loss = 1.50697507\n",
      "Validation score: 0.614115\n",
      "Iteration 2, loss = 1.06804809\n",
      "Validation score: 0.611366\n",
      "Iteration 3, loss = 0.91943646\n",
      "Validation score: 0.632447\n",
      "Iteration 4, loss = 0.81612972\n",
      "Validation score: 0.624198\n",
      "Iteration 5, loss = 0.74084340\n",
      "Validation score: 0.626031\n",
      "Iteration 6, loss = 0.66069909\n",
      "Validation score: 0.609533\n",
      "Validation score did not improve more than tol=0.000100 for two consecutive epochs. Stopping.\n"
     ]
    },
    {
     "data": {
      "text/plain": [
       "MLPClassifier(activation='tanh', alpha=0.001, batch_size='auto', beta_1=0.9,\n",
       "       beta_2=0.999, early_stopping=True, epsilon=1e-08,\n",
       "       hidden_layer_sizes=(250, 200, 180, 150, 120),\n",
       "       learning_rate='adaptive', learning_rate_init=0.001, max_iter=50000,\n",
       "       momentum=0.9, nesterovs_momentum=True, power_t=0.5,\n",
       "       random_state=None, shuffle=True, solver='adam', tol=0.0001,\n",
       "       validation_fraction=0.25, verbose='True', warm_start=False)"
      ]
     },
     "execution_count": 189,
     "metadata": {},
     "output_type": "execute_result"
    }
   ],
   "source": [
    "nn.fit(train_data_stand, train_labels)"
   ]
  },
  {
   "cell_type": "code",
   "execution_count": 190,
   "metadata": {},
   "outputs": [],
   "source": [
    "y_pred = nn.predict(train_data_stand)"
   ]
  },
  {
   "cell_type": "code",
   "execution_count": 191,
   "metadata": {},
   "outputs": [
    {
     "data": {
      "text/plain": [
       "0.71991748796699517"
      ]
     },
     "execution_count": 191,
     "metadata": {},
     "output_type": "execute_result"
    }
   ],
   "source": [
    "nn.score(train_data_stand,train_labels)"
   ]
  },
  {
   "cell_type": "code",
   "execution_count": 192,
   "metadata": {},
   "outputs": [
    {
     "data": {
      "text/plain": [
       "3141"
      ]
     },
     "execution_count": 192,
     "metadata": {},
     "output_type": "execute_result"
    }
   ],
   "source": [
    "sum(np.round(nn.predict(train_data_stand)) == train_labels)"
   ]
  },
  {
   "cell_type": "code",
   "execution_count": 193,
   "metadata": {},
   "outputs": [
    {
     "data": {
      "text/plain": [
       "0.71991748796699517"
      ]
     },
     "execution_count": 193,
     "metadata": {},
     "output_type": "execute_result"
    }
   ],
   "source": [
    "sum(np.round(y_pred) == train_labels) / len(train_labels)"
   ]
  },
  {
   "cell_type": "code",
   "execution_count": 194,
   "metadata": {},
   "outputs": [
    {
     "data": {
      "text/plain": [
       "3141"
      ]
     },
     "execution_count": 194,
     "metadata": {},
     "output_type": "execute_result"
    }
   ],
   "source": [
    "sum(np.round(y_pred) == train_labels)"
   ]
  },
  {
   "cell_type": "code",
   "execution_count": 134,
   "metadata": {},
   "outputs": [],
   "source": [
    "nn_pred = nn.predict(test_data_stand)\n",
    "nn_pred_log = nn.predict_log_proba(test_data_stand)"
   ]
  },
  {
   "cell_type": "code",
   "execution_count": 221,
   "metadata": {},
   "outputs": [],
   "source": [
    "X_train, X_val, y_train, y_val = train_test_split(\n",
    "    train_data_stand, train_labels, test_size=0.25, random_state=42)"
   ]
  },
  {
   "cell_type": "code",
   "execution_count": 222,
   "metadata": {},
   "outputs": [],
   "source": [
    "nn2 = MLPClassifier(alpha=0.00000001, hidden_layer_sizes = (250,200,180, 150, 120), max_iter = 50000, activation = 'tanh', verbose = 'True', solver='adam', learning_rate='adaptive', early_stopping=True, validation_fraction=0.25, tol=1e-4 )"
   ]
  },
  {
   "cell_type": "code",
   "execution_count": 223,
   "metadata": {},
   "outputs": [
    {
     "name": "stdout",
     "output_type": "stream",
     "text": [
      "Iteration 1, loss = 1.58634923\n",
      "Validation score: 0.570905\n",
      "Iteration 2, loss = 1.11169400\n",
      "Validation score: 0.596577\n",
      "Iteration 3, loss = 0.97088135\n",
      "Validation score: 0.627139\n",
      "Iteration 4, loss = 0.85143679\n",
      "Validation score: 0.623472\n",
      "Iteration 5, loss = 0.76467398\n",
      "Validation score: 0.627139\n",
      "Iteration 6, loss = 0.68509233\n",
      "Validation score: 0.632029\n",
      "Iteration 7, loss = 0.59934908\n",
      "Validation score: 0.623472\n",
      "Iteration 8, loss = 0.51506763\n",
      "Validation score: 0.618582\n",
      "Iteration 9, loss = 0.44552502\n",
      "Validation score: 0.629584\n",
      "Validation score did not improve more than tol=0.000100 for two consecutive epochs. Stopping.\n"
     ]
    },
    {
     "data": {
      "text/plain": [
       "MLPClassifier(activation='tanh', alpha=1e-08, batch_size='auto', beta_1=0.9,\n",
       "       beta_2=0.999, early_stopping=True, epsilon=1e-08,\n",
       "       hidden_layer_sizes=(250, 200, 180, 150, 120),\n",
       "       learning_rate='adaptive', learning_rate_init=0.001, max_iter=50000,\n",
       "       momentum=0.9, nesterovs_momentum=True, power_t=0.5,\n",
       "       random_state=None, shuffle=True, solver='adam', tol=0.0001,\n",
       "       validation_fraction=0.25, verbose='True', warm_start=False)"
      ]
     },
     "execution_count": 223,
     "metadata": {},
     "output_type": "execute_result"
    }
   ],
   "source": [
    "nn2.fit(X_train, y_train)"
   ]
  },
  {
   "cell_type": "code",
   "execution_count": null,
   "metadata": {},
   "outputs": [],
   "source": [
    "nn2."
   ]
  },
  {
   "cell_type": "code",
   "execution_count": 226,
   "metadata": {},
   "outputs": [
    {
     "data": {
      "text/plain": [
       "0.63886342804766272"
      ]
     },
     "execution_count": 226,
     "metadata": {},
     "output_type": "execute_result"
    }
   ],
   "source": [
    "sum(nn2.predict(X_val) == y_val)/ len(y_val)"
   ]
  },
  {
   "cell_type": "code",
   "execution_count": 225,
   "metadata": {},
   "outputs": [
    {
     "data": {
      "text/plain": [
       "0.73321109328443734"
      ]
     },
     "execution_count": 225,
     "metadata": {},
     "output_type": "execute_result"
    }
   ],
   "source": [
    "sum(nn2.predict(train_data_stand) == train_labels)/ len(train_labels)"
   ]
  },
  {
   "cell_type": "code",
   "execution_count": null,
   "metadata": {},
   "outputs": [],
   "source": []
  },
  {
   "cell_type": "code",
   "execution_count": null,
   "metadata": {},
   "outputs": [],
   "source": []
  },
  {
   "cell_type": "code",
   "execution_count": 227,
   "metadata": {},
   "outputs": [],
   "source": [
    "nn3 = MLPClassifier(alpha=0.00000001, hidden_layer_sizes = (250,200,180, 150, 120), max_iter = 50000, activation = 'tanh', verbose = 'True', solver='adam', learning_rate='adaptive', early_stopping=True, validation_fraction=0.25, tol=1e-4 )"
   ]
  },
  {
   "cell_type": "code",
   "execution_count": 228,
   "metadata": {},
   "outputs": [
    {
     "name": "stdout",
     "output_type": "stream",
     "text": [
      "Iteration 1, loss = 1.51672486\n",
      "Validation score: 0.620532\n",
      "Iteration 2, loss = 1.07540857\n",
      "Validation score: 0.653529\n",
      "Iteration 3, loss = 0.94060331\n",
      "Validation score: 0.635197\n",
      "Iteration 4, loss = 0.83544205\n",
      "Validation score: 0.656279\n",
      "Iteration 5, loss = 0.75492389\n",
      "Validation score: 0.653529\n",
      "Iteration 6, loss = 0.66541742\n",
      "Validation score: 0.648029\n",
      "Iteration 7, loss = 0.60343716\n",
      "Validation score: 0.640697\n",
      "Validation score did not improve more than tol=0.000100 for two consecutive epochs. Stopping.\n"
     ]
    },
    {
     "data": {
      "text/plain": [
       "MLPClassifier(activation='tanh', alpha=1e-08, batch_size='auto', beta_1=0.9,\n",
       "       beta_2=0.999, early_stopping=True, epsilon=1e-08,\n",
       "       hidden_layer_sizes=(250, 200, 180, 150, 120),\n",
       "       learning_rate='adaptive', learning_rate_init=0.001, max_iter=50000,\n",
       "       momentum=0.9, nesterovs_momentum=True, power_t=0.5,\n",
       "       random_state=None, shuffle=True, solver='adam', tol=0.0001,\n",
       "       validation_fraction=0.25, verbose='True', warm_start=False)"
      ]
     },
     "execution_count": 228,
     "metadata": {},
     "output_type": "execute_result"
    }
   ],
   "source": [
    "nn3.fit(train_data_stand,train_labels)"
   ]
  },
  {
   "cell_type": "code",
   "execution_count": 229,
   "metadata": {},
   "outputs": [
    {
     "data": {
      "text/plain": [
       "0.7403162961265185"
      ]
     },
     "execution_count": 229,
     "metadata": {},
     "output_type": "execute_result"
    }
   ],
   "source": [
    "sum(nn3.predict(train_data_stand) == train_labels)/ len(train_labels)"
   ]
  },
  {
   "cell_type": "code",
   "execution_count": 230,
   "metadata": {},
   "outputs": [],
   "source": [
    "pred_nn3 = nn3.predict(test_data_stand)\n",
    "pred_nn3_log = nn3.predict_log_proba(test_data_stand)"
   ]
  },
  {
   "cell_type": "code",
   "execution_count": 231,
   "metadata": {},
   "outputs": [],
   "source": [
    "utils.make_submission(pred_nn3, 'NN')"
   ]
  },
  {
   "cell_type": "code",
   "execution_count": null,
   "metadata": {},
   "outputs": [],
   "source": []
  },
  {
   "cell_type": "code",
   "execution_count": 92,
   "metadata": {},
   "outputs": [
    {
     "data": {
      "text/plain": [
       "array([[ 0.97894976,  0.99735779,  0.        ],\n",
       "       [ 0.99513243,  0.99043086,  0.98964872]])"
      ]
     },
     "execution_count": 92,
     "metadata": {},
     "output_type": "execute_result"
    }
   ],
   "source": []
  },
  {
   "cell_type": "code",
   "execution_count": 85,
   "metadata": {},
   "outputs": [
    {
     "name": "stdout",
     "output_type": "stream",
     "text": [
      "Iteration 1, loss = 4.28909878\n",
      "Iteration 2, loss = 2.70760139\n",
      "Iteration 3, loss = 2.25590931\n",
      "Iteration 4, loss = 1.94647931\n",
      "Iteration 5, loss = 1.77618663\n",
      "Iteration 6, loss = 1.58783244\n",
      "Iteration 7, loss = 1.36535129\n",
      "Iteration 8, loss = 1.17427783\n",
      "Iteration 9, loss = 1.01640419\n",
      "Iteration 10, loss = 0.82456931\n",
      "Iteration 11, loss = 0.66671243\n",
      "Iteration 12, loss = 0.56901756\n",
      "Iteration 13, loss = 0.48762433\n",
      "Iteration 14, loss = 0.36836856\n",
      "Iteration 15, loss = 0.32908717\n",
      "Iteration 16, loss = 0.35066334\n",
      "Iteration 17, loss = 0.31212233\n",
      "Iteration 18, loss = 0.23727481\n",
      "Iteration 19, loss = 0.17289545\n",
      "Iteration 20, loss = 0.14416776\n",
      "Iteration 21, loss = 0.13990831\n",
      "Iteration 22, loss = 0.11345623\n",
      "Iteration 23, loss = 0.11714762\n",
      "Iteration 24, loss = 0.12536829\n",
      "Iteration 25, loss = 0.11804160\n",
      "Training loss did not improve more than tol=0.000100 for two consecutive epochs. Stopping.\n",
      "Iteration 1, loss = 4.50604924\n",
      "Iteration 2, loss = 2.53492636\n",
      "Iteration 3, loss = 2.24896132\n",
      "Iteration 4, loss = 1.94506459\n",
      "Iteration 5, loss = 1.75778020\n",
      "Iteration 6, loss = 1.61057058\n",
      "Iteration 7, loss = 1.36921708\n",
      "Iteration 8, loss = 1.23351891\n",
      "Iteration 9, loss = 1.01855889\n",
      "Iteration 10, loss = 0.83559510\n",
      "Iteration 11, loss = 0.71995598\n",
      "Iteration 12, loss = 0.60696399\n",
      "Iteration 13, loss = 0.52929326\n",
      "Iteration 14, loss = 0.41598002\n",
      "Iteration 15, loss = 0.34409501\n",
      "Iteration 16, loss = 0.29474110\n",
      "Iteration 17, loss = 0.25720085\n",
      "Iteration 18, loss = 0.20495527\n",
      "Iteration 19, loss = 0.20468209\n",
      "Iteration 20, loss = 0.14515865\n",
      "Iteration 21, loss = 0.10533038\n",
      "Iteration 22, loss = 0.07459692\n",
      "Iteration 23, loss = 0.05922377\n",
      "Iteration 24, loss = 0.05674882\n",
      "Iteration 25, loss = 0.05071525\n",
      "Iteration 26, loss = 0.04300899\n",
      "Iteration 27, loss = 0.03718195\n",
      "Iteration 28, loss = 0.02912092\n",
      "Iteration 29, loss = 0.02501044\n",
      "Iteration 30, loss = 0.02388753\n",
      "Iteration 31, loss = 0.02354764\n",
      "Iteration 32, loss = 0.02343753\n",
      "Iteration 33, loss = 0.01926740\n",
      "Iteration 34, loss = 0.01754963\n",
      "Iteration 35, loss = 0.01867606\n",
      "Iteration 36, loss = 0.02354810\n",
      "Iteration 37, loss = 0.02205999\n",
      "Training loss did not improve more than tol=0.000100 for two consecutive epochs. Stopping.\n",
      "Iteration 1, loss = 2.32793074\n",
      "Iteration 2, loss = 1.61651694\n",
      "Iteration 3, loss = 1.42230361\n",
      "Iteration 4, loss = 1.27916892\n",
      "Iteration 5, loss = 1.11479025\n",
      "Iteration 6, loss = 0.96048220\n",
      "Iteration 7, loss = 0.80283891\n",
      "Iteration 8, loss = 0.75398384\n",
      "Iteration 9, loss = 0.63977762\n",
      "Iteration 10, loss = 0.49844561\n",
      "Iteration 11, loss = 0.37983340\n",
      "Iteration 12, loss = 0.31834357\n",
      "Iteration 13, loss = 0.26563429\n",
      "Iteration 14, loss = 0.20178510\n",
      "Iteration 15, loss = 0.14343944\n",
      "Iteration 16, loss = 0.14335613\n",
      "Iteration 17, loss = 0.11989106\n",
      "Iteration 18, loss = 0.08078782\n",
      "Iteration 19, loss = 0.06551411\n",
      "Iteration 20, loss = 0.06142074\n",
      "Iteration 21, loss = 0.05332117\n",
      "Iteration 22, loss = 0.04445045\n",
      "Iteration 23, loss = 0.03573425\n",
      "Iteration 24, loss = 0.03241385\n",
      "Iteration 25, loss = 0.03145881\n",
      "Iteration 26, loss = 0.02501392\n",
      "Iteration 27, loss = 0.02066463\n",
      "Iteration 28, loss = 0.01667071\n",
      "Iteration 29, loss = 0.01409415\n",
      "Iteration 30, loss = 0.01244788\n",
      "Iteration 31, loss = 0.01276237\n",
      "Iteration 32, loss = 0.01133498\n",
      "Iteration 33, loss = 0.01123853\n",
      "Iteration 34, loss = 0.01032827\n",
      "Iteration 35, loss = 0.00951073\n",
      "Iteration 36, loss = 0.00956859\n",
      "Iteration 37, loss = 0.00817510\n",
      "Iteration 38, loss = 0.00954258\n",
      "Iteration 39, loss = 0.00963344\n",
      "Iteration 40, loss = 0.00891805\n",
      "Training loss did not improve more than tol=0.000100 for two consecutive epochs. Stopping.\n",
      "Iteration 1, loss = 3.06652439\n",
      "Iteration 2, loss = 2.10220771\n",
      "Iteration 3, loss = 1.84287584\n",
      "Iteration 4, loss = 1.70341944\n",
      "Iteration 5, loss = 1.46537961\n",
      "Iteration 6, loss = 1.35878166\n",
      "Iteration 7, loss = 1.18062234\n",
      "Iteration 8, loss = 0.96881071\n",
      "Iteration 9, loss = 0.82088511\n",
      "Iteration 10, loss = 0.73424445\n",
      "Iteration 11, loss = 0.59773088\n",
      "Iteration 12, loss = 0.45037489\n",
      "Iteration 13, loss = 0.36943045\n",
      "Iteration 14, loss = 0.26101473\n",
      "Iteration 15, loss = 0.22119057\n",
      "Iteration 16, loss = 0.16154310\n",
      "Iteration 17, loss = 0.13739829\n",
      "Iteration 18, loss = 0.11602000\n",
      "Iteration 19, loss = 0.08767423\n",
      "Iteration 20, loss = 0.10315004\n",
      "Iteration 21, loss = 0.07965961\n",
      "Iteration 22, loss = 0.05517138\n",
      "Iteration 23, loss = 0.04595744\n",
      "Iteration 24, loss = 0.04187021\n",
      "Iteration 25, loss = 0.04044766\n",
      "Iteration 26, loss = 0.03031296\n",
      "Iteration 27, loss = 0.02324410\n",
      "Iteration 28, loss = 0.02117841\n",
      "Iteration 29, loss = 0.01974255\n",
      "Iteration 30, loss = 0.01847082\n",
      "Iteration 31, loss = 0.02043053\n",
      "Iteration 32, loss = 0.02180508\n",
      "Iteration 33, loss = 0.02280465\n",
      "Training loss did not improve more than tol=0.000100 for two consecutive epochs. Stopping.\n",
      "Iteration 1, loss = 0.32164971\n",
      "Iteration 2, loss = 0.03844302\n",
      "Iteration 3, loss = 0.01574302\n",
      "Iteration 4, loss = 0.01050392\n",
      "Iteration 5, loss = 0.00661998\n",
      "Iteration 6, loss = 0.00533537\n",
      "Iteration 7, loss = 0.00446892\n",
      "Iteration 8, loss = 0.00406914\n",
      "Iteration 9, loss = 0.00382039\n",
      "Iteration 10, loss = 0.00364881\n",
      "Iteration 11, loss = 0.00346096\n",
      "Iteration 12, loss = 0.00333959\n",
      "Iteration 13, loss = 0.00323266\n",
      "Iteration 14, loss = 0.00315407\n",
      "Iteration 15, loss = 0.00309971\n",
      "Iteration 16, loss = 0.00303266\n",
      "Training loss did not improve more than tol=0.000100 for two consecutive epochs. Stopping.\n",
      "Iteration 1, loss = 0.92569156\n",
      "Iteration 2, loss = 0.53215391\n",
      "Iteration 3, loss = 0.46008306\n",
      "Iteration 4, loss = 0.40836779\n",
      "Iteration 5, loss = 0.36570585\n",
      "Iteration 6, loss = 0.33659468\n",
      "Iteration 7, loss = 0.30688168\n",
      "Iteration 8, loss = 0.24671095\n",
      "Iteration 9, loss = 0.19613537\n",
      "Iteration 10, loss = 0.15500708\n",
      "Iteration 11, loss = 0.11769936\n",
      "Iteration 12, loss = 0.09497628\n",
      "Iteration 13, loss = 0.07006172\n",
      "Iteration 14, loss = 0.05705447\n",
      "Iteration 15, loss = 0.05721168\n",
      "Iteration 16, loss = 0.04299396\n",
      "Iteration 17, loss = 0.02943365\n",
      "Iteration 18, loss = 0.02458552\n",
      "Iteration 19, loss = 0.01857750\n",
      "Iteration 20, loss = 0.01769957\n",
      "Iteration 21, loss = 0.01292513\n",
      "Iteration 22, loss = 0.01155230\n",
      "Iteration 23, loss = 0.01089712\n",
      "Iteration 24, loss = 0.00999805\n",
      "Iteration 25, loss = 0.00926663\n",
      "Iteration 26, loss = 0.00857272\n",
      "Iteration 27, loss = 0.00780121\n",
      "Iteration 28, loss = 0.00823165\n",
      "Iteration 29, loss = 0.00779337\n",
      "Iteration 30, loss = 0.00829502\n",
      "Training loss did not improve more than tol=0.000100 for two consecutive epochs. Stopping.\n"
     ]
    }
   ],
   "source": [
    "train_sizes, train_scores, valid_scores = learning_curve(nn2, train_data_stand, train_labels, train_sizes=[0.66, 0.8])"
   ]
  },
  {
   "cell_type": "code",
   "execution_count": 87,
   "metadata": {},
   "outputs": [
    {
     "data": {
      "text/plain": [
       "<matplotlib.legend.Legend at 0x10f5dc828>"
      ]
     },
     "execution_count": 87,
     "metadata": {},
     "output_type": "execute_result"
    },
    {
     "data": {
      "image/png": "[encoded data removed]",
      "text/plain": [
       "<matplotlib.figure.Figure at 0x10f205320>"
      ]
     },
     "metadata": {},
     "output_type": "display_data"
    }
   ],
   "source": [
    "plt.plot(train_scores, label='train score')\n",
    "plt.plot(valid_scores, label='valid score')\n",
    "plt.legend()"
   ]
  },
  {
   "cell_type": "code",
   "execution_count": null,
   "metadata": {},
   "outputs": [],
   "source": []
  }
 ],
 "metadata": {
  "kernelspec": {
   "display_name": "Python 3",
   "language": "python",
   "name": "python3"
  },
  "language_info": {
   "codemirror_mode": {
    "name": "ipython",
    "version": 3
   },
   "file_extension": ".py",
   "mimetype": "text/x-python",
   "name": "python",
   "nbconvert_exporter": "python",
   "pygments_lexer": "ipython3",
   "version": "3.6.3"
  }
 },
 "nbformat": 4,
 "nbformat_minor": 2
}
